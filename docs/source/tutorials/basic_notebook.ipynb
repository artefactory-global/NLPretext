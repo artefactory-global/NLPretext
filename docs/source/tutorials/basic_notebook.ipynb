{
 "cells": [
  {
   "cell_type": "markdown",
   "metadata": {},
   "source": [
    "# How to use the package in a notebook\n",
    "\n",
    "<div align=\"center\">\n",
    "\n",
    "<div style=\"width: 25%; min-width: 150px; padding: 20px\">\n",
    "\n",
    "![Python Logo](../_static/images/python_logo.png)\n",
    "\n",
    "</div>\n",
    "\n",
    "### *nlpretext*\n",
    "\n",
    "</div>\n",
    "\n",
    "## Installing from the main branch\n",
    "\n",
    "To install the library from the main branch, you can run the following cell :"
   ]
  },
  {
   "cell_type": "code",
   "execution_count": null,
   "metadata": {
    "pycharm": {
     "name": "#%%\n"
    }
   },
   "outputs": [],
   "source": [
    "%pip install git+ssh://git@github.com/artefactory/nlpretext.git@main"
   ]
  },
  {
   "cell_type": "markdown",
   "metadata": {},
   "source": [
    "## Installing from a specific release\n",
    "\n",
    "To install the library from a specific release, you can run the following cell :"
   ]
  },
  {
   "cell_type": "code",
   "execution_count": null,
   "metadata": {
    "pycharm": {
     "name": "#%%\n"
    }
   },
   "outputs": [],
   "source": [
    "%pip install git+ssh://git@github.com/artefactory/nlpretext.git@v0.1.0"
   ]
  },
  {
   "cell_type": "markdown",
   "metadata": {},
   "source": [
    "## Using the package\n",
    "\n",
    "You can now import and run whatever is in the package :"
   ]
  },
  {
   "cell_type": "code",
   "execution_count": null,
   "metadata": {
    "pycharm": {
     "name": "#%%\n"
    }
   },
   "outputs": [],
   "source": [
    "from nlpretext.render.dialogs import render_clock"
   ]
  },
  {
   "cell_type": "code",
   "execution_count": null,
   "metadata": {
    "pycharm": {
     "name": "#%%\n"
    }
   },
   "outputs": [],
   "source": [
    "render_clock()"
   ]
  }
 ],
 "metadata": {
  "kernelspec": {
   "display_name": "Python 3",
   "language": "python",
   "name": "python3"
  },
  "language_info": {
   "codemirror_mode": {
    "name": "ipython",
    "version": 3
   },
   "file_extension": ".py",
   "mimetype": "text/x-python",
   "name": "python",
   "nbconvert_exporter": "python",
   "pygments_lexer": "ipython3",
   "version": "3.7.9"
  }
 },
 "nbformat": 4,
 "nbformat_minor": 1
}